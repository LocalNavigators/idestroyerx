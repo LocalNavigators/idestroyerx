{
 "cells": [
  {
   "cell_type": "code",
   "execution_count": 15,
   "metadata": {},
   "outputs": [],
   "source": [
    "import dash\n",
    "import dash_table\n",
    "import pandas as pd\n",
    "from IPython.display import HTML"
   ]
  },
  {
   "cell_type": "code",
   "execution_count": 3,
   "metadata": {},
   "outputs": [],
   "source": [
    "df = pd.read_csv('https://raw.githubusercontent.com/plotly/datasets/master/solar.csv')"
   ]
  },
  {
   "cell_type": "code",
   "execution_count": 4,
   "metadata": {},
   "outputs": [],
   "source": [
    "app = dash.Dash(__name__)"
   ]
  },
  {
   "cell_type": "code",
   "execution_count": 25,
   "metadata": {},
   "outputs": [],
   "source": [
    "app.layout = dash_table.DataTable(\n",
    "    id='table',\n",
    "    columns=[{\"name\": i, \"id\": i} for i in df.columns],\n",
    "    data=df.to_dict('records'),\n",
    ")\n",
    "data = df.to_html(classes=\"table table-striped table-hover\")"
   ]
  },
  {
   "cell_type": "code",
   "execution_count": 27,
   "metadata": {},
   "outputs": [
    {
     "name": "stdout",
     "output_type": "stream",
     "text": [
      "<table border=\"1\" class=\"dataframe table table-striped table-hover\">\n",
      "  <thead>\n",
      "    <tr style=\"text-align: right;\">\n",
      "      <th></th>\n",
      "      <th>State</th>\n",
      "      <th>Number of Solar Plants</th>\n",
      "      <th>Installed Capacity (MW)</th>\n",
      "      <th>Average MW Per Plant</th>\n",
      "      <th>Generation (GWh)</th>\n",
      "    </tr>\n",
      "  </thead>\n",
      "  <tbody>\n",
      "    <tr>\n",
      "      <th>0</th>\n",
      "      <td>California</td>\n",
      "      <td>289</td>\n",
      "      <td>4395</td>\n",
      "      <td>15.3</td>\n",
      "      <td>10826</td>\n",
      "    </tr>\n",
      "    <tr>\n",
      "      <th>1</th>\n",
      "      <td>Arizona</td>\n",
      "      <td>48</td>\n",
      "      <td>1078</td>\n",
      "      <td>22.5</td>\n",
      "      <td>2550</td>\n",
      "    </tr>\n",
      "    <tr>\n",
      "      <th>2</th>\n",
      "      <td>Nevada</td>\n",
      "      <td>11</td>\n",
      "      <td>238</td>\n",
      "      <td>21.6</td>\n",
      "      <td>557</td>\n",
      "    </tr>\n",
      "    <tr>\n",
      "      <th>3</th>\n",
      "      <td>New Mexico</td>\n",
      "      <td>33</td>\n",
      "      <td>261</td>\n",
      "      <td>7.9</td>\n",
      "      <td>590</td>\n",
      "    </tr>\n",
      "    <tr>\n",
      "      <th>4</th>\n",
      "      <td>Colorado</td>\n",
      "      <td>20</td>\n",
      "      <td>118</td>\n",
      "      <td>5.9</td>\n",
      "      <td>235</td>\n",
      "    </tr>\n",
      "    <tr>\n",
      "      <th>5</th>\n",
      "      <td>Texas</td>\n",
      "      <td>12</td>\n",
      "      <td>187</td>\n",
      "      <td>15.6</td>\n",
      "      <td>354</td>\n",
      "    </tr>\n",
      "    <tr>\n",
      "      <th>6</th>\n",
      "      <td>North Carolina</td>\n",
      "      <td>148</td>\n",
      "      <td>669</td>\n",
      "      <td>4.5</td>\n",
      "      <td>1162</td>\n",
      "    </tr>\n",
      "    <tr>\n",
      "      <th>7</th>\n",
      "      <td>New York</td>\n",
      "      <td>13</td>\n",
      "      <td>53</td>\n",
      "      <td>4.1</td>\n",
      "      <td>84</td>\n",
      "    </tr>\n",
      "  </tbody>\n",
      "</table>\n"
     ]
    }
   ],
   "source": [
    "print(data)"
   ]
  },
  {
   "cell_type": "code",
   "execution_count": null,
   "metadata": {},
   "outputs": [],
   "source": [
    "from django.http import HttpResponseRedirect\n",
    "from django.shortcuts import render\n",
    "\n",
    "from .forms import NameForm\n",
    "\n",
    "def get_name(request):\n",
    "    # if this is a POST request we need to process the form data\n",
    "    if request.method == 'POST':\n",
    "        # create a form instance and populate it with data from the request:\n",
    "        form = NameForm(request.POST)\n",
    "        # check whether it's valid:\n",
    "        if form.is_valid():\n",
    "            # process the data in form.cleaned_data as required\n",
    "            # ...\n",
    "            # redirect to a new URL:\n",
    "            return HttpResponseRedirect('/thanks/')\n",
    "\n",
    "    # if a GET (or any other method) we'll create a blank form\n",
    "    else:\n",
    "        form = NameForm()\n",
    "\n",
    "    return render(request, 'name.html', {'form': form})"
   ]
  }
 ],
 "metadata": {
  "kernelspec": {
   "display_name": "Python 3",
   "language": "python",
   "name": "python3"
  },
  "language_info": {
   "codemirror_mode": {
    "name": "ipython",
    "version": 3
   },
   "file_extension": ".py",
   "mimetype": "text/x-python",
   "name": "python",
   "nbconvert_exporter": "python",
   "pygments_lexer": "ipython3",
   "version": "3.7.4"
  }
 },
 "nbformat": 4,
 "nbformat_minor": 4
}
